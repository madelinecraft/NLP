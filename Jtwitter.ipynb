{
 "cells": [
  {
   "cell_type": "code",
   "execution_count": 8,
   "metadata": {},
   "outputs": [
    {
     "name": "stdout",
     "output_type": "stream",
     "text": [
      "Requirement already satisfied: twython in /anaconda3/lib/python3.6/site-packages/twython-3.7.0-py3.6.egg (3.7.0)\n",
      "Requirement already satisfied: requests>=2.1.0 in /anaconda3/lib/python3.6/site-packages (from twython) (2.18.4)\n",
      "Requirement already satisfied: requests_oauthlib>=0.4.0 in /anaconda3/lib/python3.6/site-packages/requests_oauthlib-0.8.0-py3.6.egg (from twython) (0.8.0)\n",
      "Requirement already satisfied: chardet<3.1.0,>=3.0.2 in /anaconda3/lib/python3.6/site-packages (from requests>=2.1.0->twython) (3.0.4)\n",
      "Requirement already satisfied: idna<2.7,>=2.5 in /anaconda3/lib/python3.6/site-packages (from requests>=2.1.0->twython) (2.6)\n",
      "Requirement already satisfied: urllib3<1.23,>=1.21.1 in /anaconda3/lib/python3.6/site-packages (from requests>=2.1.0->twython) (1.22)\n",
      "Requirement already satisfied: certifi>=2017.4.17 in /anaconda3/lib/python3.6/site-packages (from requests>=2.1.0->twython) (2018.1.18)\n",
      "Requirement already satisfied: oauthlib>=0.6.2 in /anaconda3/lib/python3.6/site-packages/oauthlib-2.1.0-py3.6.egg (from requests_oauthlib>=0.4.0->twython) (2.1.0)\n"
     ]
    }
   ],
   "source": [
    "! pip install twython"
   ]
  },
  {
   "cell_type": "code",
   "execution_count": 1,
   "metadata": {},
   "outputs": [],
   "source": [
    "import csv\n",
    "from twython import Twython\n",
    "import pandas as pd"
   ]
  },
  {
   "cell_type": "code",
   "execution_count": 2,
   "metadata": {},
   "outputs": [],
   "source": [
    "consumer_key='2PuNpS0MZy82LGszvV3anohLW' \n",
    "consumer_secret='aYF7DgrA4uDo4KNiAfpsh5IcHt7CzOXAeXoWGfenkp1F1dknrq' \n",
    "access_token_key='1001534542799290368-FiI0HMkxnqYmkgqn0RA15mDBzy1ixX' \n",
    "access_token_secret='XDuWGhtaAyiz3hQlXbiTbnFqfsJUFmxgivA3nmff2swvs' \n",
    "twitter = Twython(consumer_key,consumer_secret, access_token_key, access_token_secret)"
   ]
  },
  {
   "cell_type": "code",
   "execution_count": 4,
   "metadata": {},
   "outputs": [],
   "source": [
    "def get_user_timeline():\n",
    "    \"\"\"\n",
    "    Get all the tweets from the user list timeline\n",
    "    \"\"\"\n",
    "    users = [\"TrumpsBlonde\", \"djt10\",\n",
    "    \"NewAutismInfo\", \"drzimmermann\", \"SuzorMediation\", \"Op__Justice\",\"HealthyNews2day\", \"deb16wood\", \"joejoe80495073\"]\n",
    "    results = []\n",
    "    for user in users:\n",
    "        try:\n",
    "            results.extend(twitter.get_user_timeline(screen_name=user, count=200))\n",
    "        except Exception:\n",
    "            continue\n",
    "    return results"
   ]
  },
  {
   "cell_type": "code",
   "execution_count": 5,
   "metadata": {},
   "outputs": [],
   "source": [
    "def to_excel(df, file_name):\n",
    "    \"\"\"\n",
    "    Write file to excel \n",
    "    \"\"\"\n",
    "    writer = pd.ExcelWriter(file_name)\n",
    "    df.to_excel(writer,'Sheet1')\n",
    "    writer.save()"
   ]
  },
  {
   "cell_type": "code",
   "execution_count": 20,
   "metadata": {},
   "outputs": [],
   "source": [
    "def filter_tweets(results, tweet_set):\n",
    "    \"\"\"\n",
    "    Filter out tweets to only contain the following key words, no RT, no duplicate tweets, \n",
    "    and only contains the following fields. \n",
    "    \"\"\"\n",
    "    data = []\n",
    "    keywords = ['vaccine', 'vaccines', 'vaccination','vaccinate']\n",
    "    for tweet in results:\n",
    "        try:\n",
    "            if is_valid(tweet, keywords, tweet_set):\n",
    "                row  = {\n",
    "                'id': tweet['id'],\n",
    "                'text': tweet['text'].encode('utf-8'),\n",
    "                'retweet_count': tweet['retweet_count'], \n",
    "                'timestamp' :tweet['created_at'], \n",
    "                'media': [], \n",
    "                'favorite_count': tweet['favorite_count'], \n",
    "                'user_follower_count': tweet['user']['followers_count'],\n",
    "                'user_id': tweet['user']['id'], \n",
    "                'user_screen_name' : tweet['user']['screen_name'].encode('utf-8'),\n",
    "                'url' : [],\n",
    "                'hash_tags': []\n",
    "                }\n",
    "                data.append(row)\n",
    "            tweet_set.add(tweet['id'])\n",
    "        except Exception:\n",
    "            continue\n",
    "    return data"
   ]
  },
  {
   "cell_type": "code",
   "execution_count": 21,
   "metadata": {},
   "outputs": [],
   "source": [
    "def is_valid(tweet, keywords, tweet_set):\n",
    "    return tweet['id'] not in tweet_set and 'RT' not in tweet['text']  and tweet['text'] in keywords"
   ]
  },
  {
   "cell_type": "code",
   "execution_count": 22,
   "metadata": {},
   "outputs": [],
   "source": [
    "def get_user_information():\n",
    "    \"\"\"\n",
    "    Get the profile of the user \n",
    "    \"\"\"\n",
    "    results = {}\n",
    "    users = [\"TrumpsBlonde\", \"djt10\",\n",
    "    \"NewAutismInfo\", \"drzimmermann\", \"SuzorMediation\", \"Op__Justice\",\"HealthyNews2day\", \"deb16wood\", \"joejoe80495073\"]\n",
    "    for user in users:\n",
    "        results['user'] = twitter.show_user(screen_name=user)\n",
    "    return results"
   ]
  },
  {
   "cell_type": "code",
   "execution_count": 23,
   "metadata": {},
   "outputs": [],
   "source": [
    "def get_full_tweet(ids):\n",
    "    \"\"\"\n",
    "    Get information of a list of tweet ids\n",
    "    \"\"\"\n",
    "    for i, tweet_id in enumerate(ids):\n",
    "        try:\n",
    "            tweet = twitter.show_status(id=str(tweet_id), tweet_mode='extended')\n",
    "            df_search.set_value(i, 'text', tweet)\n",
    "        except Exception:\n",
    "            print(tweet_id)"
   ]
  },
  {
   "cell_type": "code",
   "execution_count": 24,
   "metadata": {},
   "outputs": [
    {
     "ename": "TypeError",
     "evalue": "filter_tweets() missing 1 required positional argument: 'tweet_set'",
     "output_type": "error",
     "traceback": [
      "\u001b[0;31m---------------------------------------------------------------------------\u001b[0m",
      "\u001b[0;31mTypeError\u001b[0m                                 Traceback (most recent call last)",
      "\u001b[0;32m<ipython-input-24-5ec7afd6109b>\u001b[0m in \u001b[0;36m<module>\u001b[0;34m()\u001b[0m\n\u001b[1;32m      1\u001b[0m \u001b[0mresults\u001b[0m \u001b[0;34m=\u001b[0m \u001b[0mget_user_timeline\u001b[0m\u001b[0;34m(\u001b[0m\u001b[0;34m)\u001b[0m\u001b[0;34m\u001b[0m\u001b[0m\n\u001b[0;32m----> 2\u001b[0;31m \u001b[0mdf_search\u001b[0m \u001b[0;34m=\u001b[0m \u001b[0mfilter_tweets\u001b[0m\u001b[0;34m(\u001b[0m\u001b[0mresults\u001b[0m\u001b[0;34m)\u001b[0m\u001b[0;34m\u001b[0m\u001b[0m\n\u001b[0m\u001b[1;32m      3\u001b[0m \u001b[0mdf_search\u001b[0m \u001b[0;34m=\u001b[0m \u001b[0mpd\u001b[0m\u001b[0;34m.\u001b[0m\u001b[0mDataFrame\u001b[0m\u001b[0;34m(\u001b[0m\u001b[0mdf_search\u001b[0m\u001b[0;34m)\u001b[0m\u001b[0;34m\u001b[0m\u001b[0m\n\u001b[1;32m      4\u001b[0m \u001b[0mtweets\u001b[0m \u001b[0;34m=\u001b[0m \u001b[0mget_full_tweet\u001b[0m\u001b[0;34m(\u001b[0m\u001b[0mdf_search\u001b[0m\u001b[0;34m[\u001b[0m\u001b[0;34m'id'\u001b[0m\u001b[0;34m]\u001b[0m\u001b[0;34m)\u001b[0m\u001b[0;34m\u001b[0m\u001b[0m\n\u001b[1;32m      5\u001b[0m \u001b[0;34m\u001b[0m\u001b[0m\n",
      "\u001b[0;31mTypeError\u001b[0m: filter_tweets() missing 1 required positional argument: 'tweet_set'"
     ]
    }
   ],
   "source": [
    "results = get_user_timeline()\n",
    "df_search = filter_tweets(results)\n",
    "df_search = pd.DataFrame(df_search)\n",
    "tweets = get_full_tweet(df_search['id'])\n",
    "df_search = filter_tweets(results, set())\n",
    "\n",
    "to_excel(df_search, 'tweets.xlsx')"
   ]
  }
 ],
 "metadata": {
  "kernelspec": {
   "display_name": "Python 3",
   "language": "python",
   "name": "python3"
  },
  "language_info": {
   "codemirror_mode": {
    "name": "ipython",
    "version": 3
   },
   "file_extension": ".py",
   "mimetype": "text/x-python",
   "name": "python",
   "nbconvert_exporter": "python",
   "pygments_lexer": "ipython3",
   "version": "3.6.4"
  }
 },
 "nbformat": 4,
 "nbformat_minor": 2
}
